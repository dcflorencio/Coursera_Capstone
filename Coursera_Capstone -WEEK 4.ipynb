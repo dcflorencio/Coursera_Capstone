{
 "cells": [
  {
   "cell_type": "markdown",
   "metadata": {},
   "source": [
    "<h1>Capstone Project Notebook - WEEK 4</h1>"
   ]
  },
  {
   "cell_type": "markdown",
   "metadata": {},
   "source": [
    "This notebook will be used for the capstone project of Applied Data Science Capstone Coursera Course. WEEK 4"
   ]
  },
  {
   "cell_type": "markdown",
   "metadata": {},
   "source": [
    "### Introduction/Business Problem"
   ]
  },
  {
   "cell_type": "markdown",
   "metadata": {},
   "source": [
    "This project is about  a company based on New York (Manhattan) that is considering moving (or a new branch) in Toronto, CA. This project's goal is to compare two cities. \n",
    "\n",
    "The company is concerned about the employees, considering that some of them will eventually need to move between cities, the want to establish their headquarters in similar neighborhoods."
   ]
  },
  {
   "cell_type": "markdown",
   "metadata": {},
   "source": [
    "In order to compare the cities and the neighborhoods, this project will compare the venues in each place and try to establish a similarity\n",
    "\n",
    "The final question to be answered is:\n",
    "\n",
    "Are there similar neighborhoods in Manhattan and Toronto? which ones?\n",
    "\n",
    "\n",
    "\n",
    "\n"
   ]
  },
  {
   "cell_type": "markdown",
   "metadata": {},
   "source": [
    "### Data section"
   ]
  },
  {
   "cell_type": "markdown",
   "metadata": {},
   "source": [
    "In order to compare the cities, this project will obtain data from the Foursquare API. The data will be venues placed in each designated area.\n",
    "\n",
    "Geolocation data for the cities will be obtained from known databases such as Wikipedia and geolocation python libraries."
   ]
  },
  {
   "cell_type": "markdown",
   "metadata": {},
   "source": [
    "<img src=\"1.JPG\">"
   ]
  }
 ],
 "metadata": {
  "kernelspec": {
   "display_name": "Python",
   "language": "python",
   "name": "conda-env-python-py"
  },
  "language_info": {
   "codemirror_mode": {
    "name": "ipython",
    "version": 3
   },
   "file_extension": ".py",
   "mimetype": "text/x-python",
   "name": "python",
   "nbconvert_exporter": "python",
   "pygments_lexer": "ipython3",
   "version": "3.6.10"
  }
 },
 "nbformat": 4,
 "nbformat_minor": 4
}
